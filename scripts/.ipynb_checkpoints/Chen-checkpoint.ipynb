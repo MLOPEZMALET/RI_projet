{
 "cells": [
  {
   "cell_type": "code",
   "execution_count": 45,
   "metadata": {},
   "outputs": [
    {
     "data": {
      "text/plain": [
       "9"
      ]
     },
     "execution_count": 45,
     "metadata": {},
     "output_type": "execute_result"
    }
   ],
   "source": [
    "import json\n",
    "essai =  { \"1,9bn\": [\n",
    "        [\n",
    "            25,\n",
    "            4\n",
    "        ]\n",
    "    ],\n",
    "    \"100bn\": [\n",
    "        [\n",
    "            19,\n",
    "            12\n",
    "        ],\n",
    "        [\n",
    "            25,\n",
    "            2\n",
    "        ]\n",
    "    ],\n",
    "    \"10bn\": [\n",
    "        [\n",
    "            19,\n",
    "            9\n",
    "        ],\n",
    "        [\n",
    "            25,\n",
    "            5\n",
    "        ]\n",
    "    ]\n",
    "         }\n",
    "#essai_json = json.loads(essai)\n",
    "essai[\"10bn\"][0][1]"
   ]
  },
  {
   "cell_type": "code",
   "execution_count": 46,
   "metadata": {},
   "outputs": [
    {
     "name": "stdout",
     "output_type": "stream",
     "text": [
      "[[25, 4]]\n",
      "[[19, 12], [25, 2]]\n",
      "[[19, 9], [25, 5]]\n"
     ]
    }
   ],
   "source": [
    "termes = [\"1,9bn\",\"100bn\",\"10bn\",\"ee\"]\n",
    "resultat = dict()\n",
    "for terme in termes:\n",
    "    if terme in essai:\n",
    "        print(essai[terme])\n",
    "        for liste in essai[terme]:\n",
    "            if resultat.__contains__(liste[0]):\n",
    "                resultat[liste[0]][terme] = liste[1]\n",
    "            else:\n",
    "                valeur = {terme:liste[1]}\n",
    "                resultat[liste[0]] = valeur"
   ]
  },
  {
   "cell_type": "code",
   "execution_count": null,
   "metadata": {},
   "outputs": [],
   "source": []
  },
  {
   "cell_type": "code",
   "execution_count": null,
   "metadata": {},
   "outputs": [],
   "source": []
  },
  {
   "cell_type": "code",
   "execution_count": null,
   "metadata": {},
   "outputs": [],
   "source": []
  },
  {
   "cell_type": "code",
   "execution_count": null,
   "metadata": {},
   "outputs": [],
   "source": []
  },
  {
   "cell_type": "code",
   "execution_count": null,
   "metadata": {},
   "outputs": [],
   "source": [
    "            if resultat.__contains__(liste[0]):\n",
    "                resultat[liste[0]][terme] = liste[1]\n",
    "            else:\n",
    "                valeur = {terme:liste[1]}\n",
    "                resultat[liste[0]] = valeur"
   ]
  },
  {
   "cell_type": "code",
   "execution_count": 282,
   "metadata": {},
   "outputs": [],
   "source": [
    "ab = \"toujours envie de s\\n\\nfaire qch\""
   ]
  },
  {
   "cell_type": "code",
   "execution_count": 288,
   "metadata": {},
   "outputs": [
    {
     "name": "stdout",
     "output_type": "stream",
     "text": [
      "toujours envie de s\n",
      "faire qch\n"
     ]
    }
   ],
   "source": [
    "c = ab[:ab.index(\"\\n\\n\")]\n",
    "print(c)\n",
    "d = ab[ab.index(\"\\n\\n\")+2:]\n",
    "print(d)"
   ]
  },
  {
   "cell_type": "code",
   "execution_count": 20,
   "metadata": {},
   "outputs": [
    {
     "name": "stdout",
     "output_type": "stream",
     "text": [
      "index de cuduments bien lu\n",
      "index inversé bien lu\n",
      "votre requête ?\n",
      "chomage citoyen culture day department\n",
      "... chomage citoyen culture day department\n",
      "\n",
      "{14: {'chomage': 3, 'citoyen': 1, 'culture': 5}, 22: {'chomage': 1, 'citoyen': 1}, 0: {'citoyen': 1}, 5: {'citoyen': 2}, 10: {'citoyen': 3}, 1: {'culture': 1}, 6: {'culture': 1}, 8: {'culture': 2}, 21: {'culture': 2, 'day': 4}, 24: {'culture': 2, 'day': 3, 'department': 5}, 26: {'culture': 1}, 28: {'culture': 5, 'day': 1}, 3: {'day': 1, 'department': 1}, 13: {'day': 1}, 17: {'day': 2}, 19: {'day': 5, 'department': 2}, 29: {'day': 2}, 12: {'department': 1}}\n",
      "18 documents ont été trouvés!\n",
      "\n"
     ]
    }
   ],
   "source": [
    "#!/usr/bin/env python\n",
    "# coding: utf-8\n",
    "\n",
    "# -------------------------------------------------------------------------------------------------------------\n",
    "#   python3 requete-v1.py\n",
    "#\n",
    "#   Traitement d'une requête :\n",
    "#       0. lecture fichier des index (inversé & documents)\n",
    "#       1. lecture de la requête\n",
    "#       2. extraction de ses tokens \n",
    "#       - lemmatisation\n",
    "#       - normalisation \n",
    "#       3. recherche des documents correspondants dans l'index\n",
    "#           par comptage des matchs\n",
    "#       4. affichage des résultats\n",
    "# \n",
    "#   remarque :  ne donne pas d'info sur les termes trouvés\n",
    "# -------------------------------------------------------------------------------------------------------------\n",
    "\n",
    "import os\n",
    "import sys\n",
    "import re\n",
    "import pickle \n",
    "import json\n",
    "from fonctions_index import litTexteDuFichier, ecritTexteDansUnFichier, lemmatiseTexte, normaliseTokens, normaliseTokensRequete, lemmatiseTokenRequete\n",
    "\n",
    "PARSEUR = 'TALISMANE'\n",
    "   \n",
    "fiIndex = \"./_index/indexInverse\"\n",
    "fiDocs = \"./_index/indexDocuments\"\n",
    "doCorpus = \"../corpus/miniCorpus/FR/\"\n",
    "corpus_sansBalise = \"../corpus/sans_balises\"\n",
    "\n",
    "fiTxt = \"./_log/tempo.txt\" \n",
    "\n",
    "fiLog = \"./_log/requete.log\"\n",
    "log = \"\"\n",
    "\n",
    "\n",
    "indexDocuments = dict()\n",
    "indexInverse = dict ()\n",
    "\n",
    "# 0. lecture des index\n",
    "if os.path.isfile (fiDocs) :\n",
    "    with open(fiDocs, 'rb') as FI :\n",
    "        #indexDocuments = pickle.load(FI)\n",
    "        indexDocuments = json.load(FI)\n",
    "    print (\"index de cuduments bien lu\")\n",
    "\n",
    "if os.path.isfile (fiIndex) :\n",
    "    with open(fiIndex, 'rb') as FI :\n",
    "        #indexInverse = pickle.load(FI)\n",
    "        indexInverse = json.load(FI)\n",
    "    print (\"index inversé bien lu\")\n",
    " \n",
    "# 1. lecture de la requête (mots clés)\n",
    "print(\"votre requête ?\")\n",
    "requete = input()\n",
    "print(\"...\", requete)\n",
    "log += \"\\nrequête: %s \\n\" % (requete)\n",
    "\n",
    "# 2. extraction de ses tokens (lemmatisation, normalisation)\n",
    "ecritTexteDansUnFichier (requete, fiTxt)   \n",
    "tokens = lemmatiseTokenRequete (fiTxt)\n",
    "termes = normaliseTokensRequete (tokens)\n",
    "log += \"\\ntermes: %s \\n\" % (termes)\n",
    "\n",
    "# 3. recherche des termes dans l'index\n",
    "nbMatch = dict ()\n",
    "for terme in termes:\n",
    "    # pour chaque terme de la requête\n",
    "    if terme in indexInverse:\n",
    "        for liste in indexInverse[terme]:\n",
    "            if nbMatch.__contains__(liste[0]):\n",
    "                nbMatch[liste[0]][terme] = liste[1]\n",
    "            else:\n",
    "                valeur = {terme:liste[1]}\n",
    "                nbMatch[liste[0]] = valeur\n",
    "\n",
    "log += \"\\nrésultat: %s \\n\" % (str (nbMatch) )\n",
    "log += \"\\nresultats détaillées: \\n\"\n",
    "\n",
    "# 4. affichage des résultats\n",
    "print(f\"\\n{nbMatch}\")\n",
    "print(\"{nombre} documents ont été trouvés!\\n\".format(nombre=len(nbMatch)))\n",
    "\n",
    "for doc, nb in nbMatch.items():#sorted(nbMatch.items(), key=lambda item: item[0], reverse=True) :\n",
    "    info_document = indexDocuments[str(doc)]\n",
    "    #print(f\"{info_document} --> {nb}\")\n",
    "\n",
    "    #stocker les infos dans log\n",
    "    nom_fichier = info_document[0]\n",
    "    titre_complet = info_document[1]\n",
    "    if \"\\n\\n\" in titre_complet:\n",
    "        titre_principal = titre_complet[:titre_complet.index(\"\\n\\n\")]\n",
    "        sous_titre = titre_complet[titre_complet.index(\"\\n\\n\")+2:]\n",
    "        log += f\"nom de fichier: {nom_fichier}\\n titre de texte: {titre_principal}\\n sous-titre: {sous_titre}\\n termes trouvés dans ce fichier: {nb}\\n\\n\"\n",
    "    else:\n",
    "        log += f\"nom de fichier: {nom_fichier}\\n titre de texte: {titre_complet}\\n termes trouvés dans ce fichier: {nb}\\n\\n\"\n",
    "\n",
    "#5 calculer les scores avec TF-IDF\n",
    "\n",
    "\n",
    "\n",
    "\n",
    "\n",
    "\n",
    "# sauvegarde du log\n",
    "ecritTexteDansUnFichier (log, fiLog)"
   ]
  },
  {
   "cell_type": "code",
   "execution_count": 16,
   "metadata": {},
   "outputs": [
    {
     "name": "stdout",
     "output_type": "stream",
     "text": [
      "\n",
      "\n",
      "Nombre de Polonais comptaient toucher les « dividendes économiques » de leur courage politique : en arrachant, les premiers, leur pays au communisme, n'avaient-ils pas contribué à libérer les Occidentaux de la coûteuse « menace » soviétique et permis, de surcroît, l'unification allemande ? En guise de remerciements, les voilà contraints de financer eux-mêmes l'adhésion à l'Organisation du traité de l'Atlantique nord (OTAN), mais aussi l'adoption de l'« acquis communautaire » de l'Union européenne.\n",
      "\n",
      "Un seul pays de l'ancien bloc de l'Est a nettement dépassé le niveau du PIB qui était le sien en 1989 : la Pologne. C'est pourquoi la plupart des commentateurs occidentaux qualifient celle-ci de « bon élève » de la « classe difficile » des pays « en transition » vers le capitalisme. Pourtant, si une couche d'hommes d'affaires enthousiastes a émergé, l'humeur de la masse de la population semble plutôt morose après une décennie de restructurations. C'est au tour des héritiers de Solidarité, au pouvoir, d'être touchés par la désillusion, alors que les « ex-communistes » peuvent ainsi rassembler les « nostalgiques » de la Pologne populaire et certains milieux d'affaires.\n",
      "\n",
      "Pour comprendre la réélection, au premier tour, le 8 octobre 2000, du président Alexandre Kwasniewski (53,9 % des voix) et la déroute de M. Lech Walesa (1,1 %), il est utile de savoir que 44 % des Polonais apprécient positivement l'époque de la Pologne populaire. Plus : selon un autre sondage, 47 % pensent que le socialisme est une bonne doctrine qui a été mal appliquée, contre 41 % pour qui le capitalisme est un meilleur système (1).\n",
      "\n",
      "Ces convictions s'enracinent dans le bilan social réel de la « transition ». On ne s'étonnera pas que M. Kwasniewski ait obtenu ses meilleurs résultats là où le chômage est le plus élevé. De même, si le scepticisme des Polonais résiste aux indices macro-économiques, presque tous bons, affichés à Varsovie, c'est que les effets de la mondialisation et de l'adaptation aux normes de Maastricht exigent de leur part, non une pause dans les « réformes », mais au contraire un effort accru. Député socialiste et rapportrice au Parlement européen, Mme Pervenche Berès annonce en effet que « les nouveaux membres de l'Union européenne devront s'attendre, dans les premières années qui suivront l'adhésion, à un choc économique important (2) ».\n",
      "\n",
      "A Varsovie, la crise russe de 1998 n'a pas vraiment freiné la croissance (3), et le zloty n'a pas subi d'attaques spéculatives. L'inflation diminue, la production industrielle augmente et le niveau de santé s'améliore (4). La Pologne a attiré en 1998 environ 40 % des investissements étrangers directs pour ce qu'on appelle l'Europe centrale et orientale. Ceux-ci représentaient en tout plus de 22 milliards de dollars fin 1999 (5). Les prévisions tablent sur une croissance de 5 % à 6 % dans les années à venir.\n",
      "\n",
      "Ce tableau cache toutefois des points noirs. Le chômage est remonté à plus de 13 % et les restructurations prévues - dans l'agriculture, les mines, la sidérurgie, les télécommunications, le raffinage, l'électricité, les transports publics, etc. - expliquent pourquoi les élites s'inquiètent du mécontentement grandissant. Car la croissance s'est accompagnée d'une polarisation sociale et de la réapparition de différences régionales. Le taux de chômage dépasse ainsi 20 % dans certaines régions.\n",
      "\n",
      "La baisse des subsides publics dans les transports rend par ailleurs difficiles les déplacements quotidiens vers les grands pôles d'activité, où il est devenu impossible de s'installer à cause de l'effondrement de la construction de logements à loyer modéré. De surcroît, non seulement on néglige les principes de justice et de solidarité sociales proclamés par les communistes, puis par Solidarité, mais les Polonais découvrent que, avec la prédominance de l'économie mondialisée, la souveraineté nationale est vidée de son contenu.\n",
      "\n",
      "Parapluie protecteur\n",
      "\n",
      "Le capital étranger contrôle désor mais 76,9 % du secteur bancaire, en termes de fonds propres. Les meilleures entreprises ont souvent été vendues au-dessous de leur valeur - parfois, l'outil productif a été purement et simplement cassé. Dans une boutique du village de Sufczyn, près de Varsovie, une vendeuse déclare : « Les jus de fruit Hortex sont devenus mauvais, les Américains ont racheté l'usine, gardé trois cents ouvriers sur les trois mille qui y travaillaient. Ils mettent en bouteilles du jus concentré amené des Etats-Unis et nos paysans n'ont plus où vendre leurs fruits. »\n",
      "\n",
      "Cette évolution explique la nostalgie que suscitent les principes socialistes, mais aussi la résurgence de tentations nationalistes. Les budgets sociaux ayant été rognés, seules augmentent les dépenses liées aux achats d'armes occidentales « OTAN-compatibles » ou à l'adoption de l'« acquis communautaire » et au verrouillage des frontières.\n",
      "\n",
      "Dix ans après le début de la « transition », il devient difficile de justifier le déficit de la balance commerciale - passé de 2,955 milliards de dollars en 1992 à 18,522 en 1999 - par les seuls investissements nécessaires pour les infrastructures. Un ancien conseiller de M. Lech Walesa, cadre au ministère du travail, souligne : « Nous faisons comme sous Gierek avec les crédits, mais, lui, il en a investi une partie. Aujourd'hui, seul 15 % du déficit commercial peut être imputé à des achats pour les infrastructures et personne n'ose le dire de peur d'effrayer les Occidentaux. »\n",
      "\n",
      "Appauvris, les Polonais consomment à crédit, ce qui menace l'équilibre macroéconomique, alors que le remboursement des échéances de la dette passera de 2,8 milliards de dollars en 2000 à 4 milliards en 2004. Est-ce pour cela que les dirigeants souhaitent adhérer à l'Union en 2003 ? Tous les grands partis veulent accélérer l'intégration, censée garantir la stabilité de l'économie, des institutions mises en place depuis 1989 et des élites qui les gèrent. L'Union est perçue comme un parapluie protecteur grâce à ses débouchés commerciaux, son marché du travail et à l'arrivée massive de capitaux attirés par une main-d'oeuvre peu coûteuse et qualifiée. Ce pari reste aléatoire.\n",
      "\n",
      "Si 59 % des Polonais se déclarent favorables à l'adhésion contre 25 % qui s'y opposent, 44 % pensent que cela profitera surtout à l'Union, 8 % surtout à la Pologne et 29 % aux deux (6). Certains créateurs réagissent aux effets de l'ouverture de la culture au marché mondial. Ainsi le cinéaste Wojciech Siemion soutient-il la lutte pour l'exception culturelle, tandis que le président de l'Association des artistes-peintres, M. Geno Malkowski, déclare : « J'ai toujours considéré qu'une culture coupée de la vie sociale était une culture morte et ne pouvait laisser sa marque dans l'histoire. » Quant au rédacteur en chef du quotidien Trybuna, Janusz Rolicki, il avait lancé l'idée d'un Congrès des intellectuels pour la défense de la culture, mais, depuis, il a dû démissionner sous la pression du parti ex-communiste (SLD), qui défend, sur cette question comme sur les autres, une ligne social-libérale.\n",
      "\n",
      "Si le programme européen Phare n'a fait jusqu'ici l'objet d'aucun bilan démocratique, les dépenses liées à l'adoption des normes de l'Union dépassent d'ores et déjà les fonds obtenus (7). Varsovie devra assimiler au titre de l'acquis communautaire, d'ici à 2002, plus de cent mille pages de directives européennes et adopter plus de cent quatre-vingts lois. Certains Polonais se demandent pourquoi, sans subsides massifs des Quinze, leur pays s'en est globalement mieux sorti que l'ex-République démocratique allemande, qui en a, elle, massivement bénéficié - mais a dû supporter les conséquences de la soumission au « grand marché européen » et les injonctions des « compatriotes » de l'Ouest. L'exigence allemande d'une adhésion rapide de la Pologne à l'Union commence à paraître suspecte...\n",
      "\n",
      "D'autant qu'à cette fin, la poursuite des négociations sera bien plus difficile qu'avec les « petits » pays, comme la Tchéquie ou la Slovénie. Ayant augmenté ses droits de douane, en 1999, pour rétablir sa balance commerciale, la Pologne s'est vue mise en garde par le responsable des relations agricoles de l'Union avec les pays candidats : « Les Polonais suivent une mauvaise voie. Il y a lieu de se livrer aux restructurations, non d'échapper à la réalité de la concurrence (8). » Au terme de tractations délicates, un accord a finalement été conclu en septembre 2000 : il prévoit la suppression, dès 2001, des droits de douane sur 75 % des produits agricoles (9).\n",
      "\n",
      "En juin 2000, onze dossiers étaient « provisoirement » clos, contre dix-huit restant à négocier et portant sur la circulation des marchandises, des personnes et des capitaux, le droit des sociétés et de la concurrence, la fiscalité, l'agriculture, la pêche, les douanes, l'énergie, la culture, l'environnement, etc., sans oublier la douloureuse question de Schengen.\n",
      "\n",
      "Les Polonais refusent, en effet, de voir leur pays devenir le « flic » du continent, chargé de servir de « filtre migratoire » entre, d'un côté, la « mauvaise Europe » et le tiers-monde, et, de l'autre, le « noyau dur des nantis (10) ». Des commerçants de Bialystok ont manifesté contre cette politique. Ancien dirigeant de Solidarité, M. Henryk Wujec résume : « La seule chose que veulent les dirigeants de l'Union, c'est la fermeture de la frontière (11). » M. Jacek Saryusz-Wolski, qui négocie pour la Pologne avec Bruxelles, affirme, lui : « Rester à la marge, dans la périphérie de l'Union, ne nous intéresse pas. la frontière orientale doit être un pont, non un mur (12). »\n",
      "\n",
      "En fait, les Polonais savent bien que l'Europe est une péninsule de l'Eurasie : ils ne connaîtront donc un progrès réel que si des politiques audacieuses de co-développement permettent la construction de voies de communications sûres, rapides et ouvertes reliant Paris à Pékin, via Berlin, Varsovie, Minsk et Moscou. L'Organisation des Nations unies pour le développement industriel (Onudi) va d'ailleurs établir à Varsovie, en 2001, son bureau chargé d'aider les pays « en développement » d'Europe (Ukraine, Biélorussie, Roumanie, etc.).\n",
      "\n",
      "Or l'Union - en particulier la France - prône des contrôles renforcés avec informatisation des données, hélicoptères furtifs, camps de rétention (13). Une telle évolution ne pourrait que pousser les peuples d'Eurasie à s'enfermer dans un repli nationaliste. Varsovie a d'ailleurs contribué à réveiller ce danger en adhérant à l'OTAN et en appuyant les bombardements de la Yougoslavie.\n",
      "\n",
      "Beaucoup d'exploitations polonaises survivent grâce aux échanges transfrontaliers avec l'ex-URSS. Les produits vendus par des commerçants de toute la Communauté des Etats indépendants (CEI) permettent de s'approvisionner en biens bon marché. Nombre de boutiques feraient faillite sans les dix millions de citoyens de la CEI qui passent annuellement les frontières polonaises. C'est toute une économie de subsistance qui disparaîtra des deux côtés de la frontière avec l'instauration de visas.\n",
      "\n",
      "Une paysanne de la région de Chelm s'écrie : « Et qui viendra acheter nos légumes quand la frontière sera fermée ? Je suis contre. Après tout, les Ruskis [terme populaire englobant les Biélorusses, les Russes et les Ukrainiens] sont plus proches de nous que les Allemands ; nous les comprenons. » Alors que l'extrême droite n'a pas réussi à percer en Pologne après 1989, des campagnes insidieuses sur les chaînes publiques et dans des journaux réputés libéraux semblent vouloir éveiller, sur fond d'insécurité et d'épidémies, la méfiance envers ceux qui viennent de l'Est. Le libéralisme réel risque de provoquer, à terme, la xénophobie, et les campagnes anti racistes visant à se donner bonne conscience ne contribuent qu'à éveiller des méfiances.\n",
      "\n",
      "\n"
     ]
    }
   ],
   "source": [
    "with open(\"../corpus/sans_balises/2001-01-DRWESKI-14685.txt.txt\",\"r\") as f:\n",
    "    content = f.read()\n",
    "print(content)"
   ]
  },
  {
   "cell_type": "code",
   "execution_count": 18,
   "metadata": {},
   "outputs": [
    {
     "name": "stdout",
     "output_type": "stream",
     "text": [
      "1838\n"
     ]
    }
   ],
   "source": [
    "tokens = content.split(\" \")\n",
    "print(len(tokens))"
   ]
  },
  {
   "cell_type": "code",
   "execution_count": 43,
   "metadata": {},
   "outputs": [
    {
     "name": "stdout",
     "output_type": "stream",
     "text": [
      "['je', '-ne', '+sais', '-pas']\n"
     ]
    },
    {
     "data": {
      "text/plain": [
       "'je ne sais pas'"
      ]
     },
     "execution_count": 43,
     "metadata": {},
     "output_type": "execute_result"
    }
   ],
   "source": [
    "mots_list = \"je -ne +sais -pas\"\n",
    "tokens = mots_list.split(\" \")\n",
    "tokens_sans_ponc=[]\n",
    "\n",
    "print(tokens)\n",
    "for i in tokens:\n",
    "    if i[0] == \"-\" or i[0] == \"+\":\n",
    "        tokens_sans_ponc.append(i[1:])\n",
    "    else:\n",
    "        tokens_sans_ponc.append(i)\n",
    "cave = \" \".join(tokens_sans_ponc)\n",
    "cave"
   ]
  },
  {
   "cell_type": "code",
   "execution_count": 38,
   "metadata": {},
   "outputs": [
    {
     "ename": "TypeError",
     "evalue": "join() takes no keyword arguments",
     "output_type": "error",
     "traceback": [
      "\u001b[0;31m---------------------------------------------------------------------------\u001b[0m",
      "\u001b[0;31mTypeError\u001b[0m                                 Traceback (most recent call last)",
      "\u001b[0;32m<ipython-input-38-eb6a6b4609e0>\u001b[0m in \u001b[0;36m<module>\u001b[0;34m\u001b[0m\n\u001b[1;32m      1\u001b[0m \u001b[0maa\u001b[0m \u001b[0;34m=\u001b[0m \u001b[0;34m\"\"\u001b[0m\u001b[0;34m\u001b[0m\u001b[0;34m\u001b[0m\u001b[0m\n\u001b[0;32m----> 2\u001b[0;31m \u001b[0maa\u001b[0m\u001b[0;34m.\u001b[0m\u001b[0mjoin\u001b[0m\u001b[0;34m(\u001b[0m\u001b[0;34m[\u001b[0m\u001b[0;34m\"s\"\u001b[0m\u001b[0;34m,\u001b[0m\u001b[0;34m\"o\"\u001b[0m\u001b[0;34m,\u001b[0m\u001b[0;34m\"c\"\u001b[0m\u001b[0;34m,\u001b[0m\u001b[0;34m\"i\"\u001b[0m\u001b[0;34m,\u001b[0m\u001b[0;34m\"a\"\u001b[0m\u001b[0;34m,\u001b[0m\u001b[0;34m'l'\u001b[0m\u001b[0;34m]\u001b[0m\u001b[0;34m,\u001b[0m\u001b[0msplit\u001b[0m\u001b[0;34m=\u001b[0m\u001b[0;34m\" \"\u001b[0m\u001b[0;34m)\u001b[0m\u001b[0;34m\u001b[0m\u001b[0;34m\u001b[0m\u001b[0m\n\u001b[0m",
      "\u001b[0;31mTypeError\u001b[0m: join() takes no keyword arguments"
     ]
    }
   ],
   "source": [
    "aa = \"\"\n",
    "aa.join([\"s\",\"o\",\"c\",\"i\",\"a\",'l'],split=\" \")"
   ]
  },
  {
   "cell_type": "code",
   "execution_count": null,
   "metadata": {},
   "outputs": [],
   "source": [
    "#删除加减号的版本\n",
    "def lemmatiseTokensRequete(fichier):\n",
    "    tokensLemmePos = []\n",
    "    fiParse = fichier + \".par\"\n",
    "\n",
    "    #supprimer le \"+\" et le \"-\" des termes de la requête\n",
    "    requete_termes = litTexteDuFichier(fichier)\n",
    "    termes_avec_ponc = requete_termes.split(\" \")\n",
    "    liste_termes_sans_ponc = []\n",
    "\n",
    "    for terme in termes_avec_ponc:\n",
    "        if terme[0] == \"-\" or terme[0] == \"+\":\n",
    "            liste_termes_sans_ponc.append(terme[1:])\n",
    "        else:\n",
    "            liste_termes_sans_ponc.append(terme)\n",
    "    termes_a_traiter = \" \".join(liste_termes_sans_ponc)\n",
    "\n",
    "    #écrire à nouveau les termes sans ponctuations dans le fichier \"tempo.txt\"\n",
    "    ecritTexteDansUnFichier(termes_a_traiter, fichier)\n",
    "    \n",
    "    # execute TreeTagger\n",
    "    if detect(requete_termes) == \"fr\":\n",
    "        cmd = \"tree-tagger-french\"\n",
    "    else:\n",
    "        cmd = \"tree-tagger-english\"\n",
    "    os.system(\"%s %s > %s\" % (cmd, fichier, fiParse))\n",
    "\n",
    "    # lit le csv produit par treeTagger\n",
    "    with open(fiParse, \"r\") as FI:\n",
    "        for ligne in FI:\n",
    "            ligne = ligne.strip()\n",
    "            defToken = ligne.split(\"\\t\")\n",
    "            # filtre les tokens vides\n",
    "            if len(defToken) >= 3:\n",
    "                if defToken[2] != \"<unknown>\":\n",
    "                    # ajouter les tokens lemmatisés dans la liste \n",
    "                    tokensLemmePos.append(defToken[2])\n",
    "                else:\n",
    "                    tokensLemmePos.append(defToken[0])\n",
    "    # renvoie une liste de tokens (lemme)\n",
    "    return tokensLemmePos"
   ]
  },
  {
   "cell_type": "code",
   "execution_count": null,
   "metadata": {},
   "outputs": [],
   "source": [
    "# copie de la fonction de \"fonctions_index.py\"\n",
    "def lemmatiseTokenRequete(fichier):\n",
    "    tokensLemmePos = []\n",
    "    fiParse = fichier + \".par\"\n",
    "\n",
    "\n",
    "    # execute TreeTagger\n",
    "    cmd = \"tree-tagger-french\"\n",
    "    os.system(\"%s %s > %s\" % (cmd, fichier, fiParse))\n",
    "    # lit le csv produit par treeTagger\n",
    "    with open(fiParse, \"r\") as FI:\n",
    "        for ligne in FI:\n",
    "            ligne = ligne.strip()\n",
    "            defToken = ligne.split(\"\\t\")\n",
    "            # filtre les tokens vides\n",
    "            if len(defToken) >= 3:\n",
    "                if defToken[2] != \"<unknown>\":\n",
    "                    # ajouter les tokens lemmatisés dans la liste \n",
    "                    tokensLemmePos.append(defToken[2])\n",
    "                else:\n",
    "                    tokensLemmePos.append(defToken[0])\n",
    "    # renvoie une liste de tokens (lemme)\n",
    "    return tokensLemmePos"
   ]
  },
  {
   "cell_type": "code",
   "execution_count": null,
   "metadata": {},
   "outputs": [],
   "source": []
  },
  {
   "cell_type": "code",
   "execution_count": null,
   "metadata": {},
   "outputs": [],
   "source": []
  },
  {
   "cell_type": "code",
   "execution_count": null,
   "metadata": {},
   "outputs": [],
   "source": []
  },
  {
   "cell_type": "code",
   "execution_count": null,
   "metadata": {},
   "outputs": [],
   "source": []
  },
  {
   "cell_type": "code",
   "execution_count": null,
   "metadata": {},
   "outputs": [],
   "source": []
  },
  {
   "cell_type": "code",
   "execution_count": 49,
   "metadata": {},
   "outputs": [],
   "source": [
    "resultats = {14: {'chomage': 3, 'citoyen': 1, 'economie': 3, 'societe': 1}, 22: {'chomage': 1, 'citoyen': 1, 'economie': 2, 'societe': 1}, 0: {'citoyen': 1, 'economie': 1}, 5: {'citoyen': 2, 'societe': 1}, 10: {'citoyen': 3, 'societe': 5}, 4: {'economie': 4, 'societe': 3, 'salaire': 3}, 7: {'economie': 1, 'societe': 1}, 11: {'economie': 4, 'societe': 1}, 15: {'economie': 1, 'societe': 4}, 26: {'economie': 9, 'societe': 1}} "
   ]
  },
  {
   "cell_type": "code",
   "execution_count": 50,
   "metadata": {},
   "outputs": [
    {
     "data": {
      "text/plain": [
       "{14: {'chomage': 3, 'citoyen': 1, 'economie': 3, 'societe': 1},\n",
       " 22: {'chomage': 1, 'citoyen': 1, 'economie': 2, 'societe': 1},\n",
       " 0: {'citoyen': 1, 'economie': 1},\n",
       " 5: {'citoyen': 2, 'societe': 1},\n",
       " 10: {'citoyen': 3, 'societe': 5},\n",
       " 4: {'economie': 4, 'societe': 3, 'salaire': 3},\n",
       " 7: {'economie': 1, 'societe': 1},\n",
       " 11: {'economie': 4, 'societe': 1},\n",
       " 15: {'economie': 1, 'societe': 4},\n",
       " 26: {'economie': 9, 'societe': 1}}"
      ]
     },
     "execution_count": 50,
     "metadata": {},
     "output_type": "execute_result"
    }
   ],
   "source": [
    "resultats"
   ]
  },
  {
   "cell_type": "code",
   "execution_count": 151,
   "metadata": {},
   "outputs": [],
   "source": [
    "import copy\n",
    "resultats_finals = copy.deepcopy(resultats)\n"
   ]
  },
  {
   "cell_type": "code",
   "execution_count": 152,
   "metadata": {},
   "outputs": [
    {
     "data": {
      "text/plain": [
       "{14: {'chomage': 3, 'citoyen': 1, 'economie': 3, 'societe': 1},\n",
       " 22: {'chomage': 1, 'citoyen': 1, 'economie': 2, 'societe': 1},\n",
       " 0: {'citoyen': 1, 'economie': 1},\n",
       " 5: {'citoyen': 2, 'societe': 1},\n",
       " 10: {'citoyen': 3, 'societe': 5},\n",
       " 4: {'economie': 4, 'societe': 3, 'salaire': 3},\n",
       " 7: {'economie': 1, 'societe': 1},\n",
       " 11: {'economie': 4, 'societe': 1},\n",
       " 15: {'economie': 1, 'societe': 4},\n",
       " 26: {'economie': 9, 'societe': 1}}"
      ]
     },
     "execution_count": 152,
     "metadata": {},
     "output_type": "execute_result"
    }
   ],
   "source": [
    "resultats_finals"
   ]
  },
  {
   "cell_type": "code",
   "execution_count": 153,
   "metadata": {},
   "outputs": [],
   "source": [
    "requete = [\"Chômages\",\"citoyens\",\"+Économie\",\"+sociétés\",\"-salaire\"]"
   ]
  },
  {
   "cell_type": "code",
   "execution_count": 154,
   "metadata": {},
   "outputs": [],
   "source": [
    "requete_finale = [\"chomage\",\"citoyen\",\"+economie\",\"+societe\",\"-salaire\"]#7,11,15,26"
   ]
  },
  {
   "cell_type": "code",
   "execution_count": 163,
   "metadata": {},
   "outputs": [
    {
     "ename": "KeyError",
     "evalue": "10",
     "output_type": "error",
     "traceback": [
      "\u001b[0;31m---------------------------------------------------------------------------\u001b[0m",
      "\u001b[0;31mKeyError\u001b[0m                                  Traceback (most recent call last)",
      "\u001b[0;32m<ipython-input-163-42da3ac67da4>\u001b[0m in \u001b[0;36m<module>\u001b[0;34m\u001b[0m\n\u001b[1;32m      2\u001b[0m \u001b[0;32mfor\u001b[0m \u001b[0mdocument\u001b[0m \u001b[0;32min\u001b[0m \u001b[0mresultats_finals\u001b[0m\u001b[0;34m:\u001b[0m\u001b[0;34m\u001b[0m\u001b[0;34m\u001b[0m\u001b[0m\n\u001b[1;32m      3\u001b[0m     \u001b[0;32mfor\u001b[0m \u001b[0mterme\u001b[0m \u001b[0;32min\u001b[0m \u001b[0mrequete_finale\u001b[0m\u001b[0;34m:\u001b[0m\u001b[0;34m\u001b[0m\u001b[0;34m\u001b[0m\u001b[0m\n\u001b[0;32m----> 4\u001b[0;31m         \u001b[0;32mif\u001b[0m \u001b[0mterme\u001b[0m\u001b[0;34m.\u001b[0m\u001b[0mstartswith\u001b[0m\u001b[0;34m(\u001b[0m\u001b[0;34m\"-\"\u001b[0m\u001b[0;34m)\u001b[0m \u001b[0;32mand\u001b[0m \u001b[0mterme\u001b[0m\u001b[0;34m[\u001b[0m\u001b[0;36m1\u001b[0m\u001b[0;34m:\u001b[0m\u001b[0;34m]\u001b[0m \u001b[0;32min\u001b[0m \u001b[0mresultats_finals\u001b[0m\u001b[0;34m[\u001b[0m\u001b[0mdocument\u001b[0m\u001b[0;34m]\u001b[0m\u001b[0;34m:\u001b[0m\u001b[0;34m\u001b[0m\u001b[0;34m\u001b[0m\u001b[0m\n\u001b[0m\u001b[1;32m      5\u001b[0m             \u001b[0mresultats_finals\u001b[0m\u001b[0;34m.\u001b[0m\u001b[0mpop\u001b[0m\u001b[0;34m(\u001b[0m\u001b[0mdocument\u001b[0m\u001b[0;34m)\u001b[0m\u001b[0;34m\u001b[0m\u001b[0;34m\u001b[0m\u001b[0m\n\u001b[1;32m      6\u001b[0m         \u001b[0;32melse\u001b[0m\u001b[0;34m:\u001b[0m\u001b[0;34m\u001b[0m\u001b[0;34m\u001b[0m\u001b[0m\n",
      "\u001b[0;31mKeyError\u001b[0m: 10"
     ]
    }
   ],
   "source": [
    "rrr = {}\n",
    "for document in resultats_finals:\n",
    "    for terme in requete_finale:\n",
    "        if terme.startswith(\"-\") and terme[1:] in resultats_finals[document]:\n",
    "            resultats_finals.pop(document)\n",
    "        else:\n",
    "            pass"
   ]
  },
  {
   "cell_type": "code",
   "execution_count": 197,
   "metadata": {},
   "outputs": [],
   "source": [
    "ag = list(resultats_finals.items())\n",
    "mots_a_traiter = ag[0][1]"
   ]
  },
  {
   "cell_type": "code",
   "execution_count": null,
   "metadata": {},
   "outputs": [],
   "source": []
  },
  {
   "cell_type": "code",
   "execution_count": 198,
   "metadata": {},
   "outputs": [
    {
     "data": {
      "text/plain": [
       "{'economie': 4, 'societe': 3, 'salaire': 3}"
      ]
     },
     "execution_count": 198,
     "metadata": {},
     "output_type": "execute_result"
    }
   ],
   "source": [
    "mots_a_traiter"
   ]
  },
  {
   "cell_type": "code",
   "execution_count": null,
   "metadata": {},
   "outputs": [],
   "source": []
  },
  {
   "cell_type": "code",
   "execution_count": 201,
   "metadata": {},
   "outputs": [
    {
     "data": {
      "text/plain": [
       "False"
      ]
     },
     "execution_count": 201,
     "metadata": {},
     "output_type": "execute_result"
    }
   ],
   "source": [
    "all(term in mots_a_traiter for term in requete_finale)"
   ]
  },
  {
   "cell_type": "code",
   "execution_count": 207,
   "metadata": {},
   "outputs": [],
   "source": [
    "a = (term in mots_a_traiter for term in requete_finale)"
   ]
  },
  {
   "cell_type": "code",
   "execution_count": 209,
   "metadata": {},
   "outputs": [
    {
     "data": {
      "text/plain": [
       "[False, False, False, False, False]"
      ]
     },
     "execution_count": 209,
     "metadata": {},
     "output_type": "execute_result"
    }
   ],
   "source": [
    "list(a)"
   ]
  },
  {
   "cell_type": "code",
   "execution_count": 213,
   "metadata": {},
   "outputs": [
    {
     "data": {
      "text/plain": [
       "[False, False, False, False, False]"
      ]
     },
     "execution_count": 213,
     "metadata": {},
     "output_type": "execute_result"
    }
   ],
   "source": [
    "a = list(term in mots_a_traiter for term in requete_finale)\n",
    "a"
   ]
  },
  {
   "cell_type": "code",
   "execution_count": null,
   "metadata": {},
   "outputs": [],
   "source": []
  },
  {
   "cell_type": "code",
   "execution_count": 214,
   "metadata": {},
   "outputs": [],
   "source": [
    "for terme in requete_finale:\n",
    "    for document in resultats_finals:\n",
    "        if (terme[0] == \"+\") and (terme[1:] in resultats_finals[document]):\n",
    "            if document in rrr:\n",
    "                pass\n",
    "            else:\n",
    "                rrr[document] = resultats_finals.get(document)\n",
    "        "
   ]
  },
  {
   "cell_type": "code",
   "execution_count": null,
   "metadata": {},
   "outputs": [],
   "source": []
  },
  {
   "cell_type": "code",
   "execution_count": null,
   "metadata": {},
   "outputs": [],
   "source": []
  },
  {
   "cell_type": "code",
   "execution_count": 219,
   "metadata": {},
   "outputs": [
    {
     "name": "stdout",
     "output_type": "stream",
     "text": [
      "dfs +dsdfd -sfe +dd\n",
      "['dfs', '+dsdfd', '-sfe', '+dd']\n"
     ]
    }
   ],
   "source": [
    "inputt = input()\n",
    "aa = list(inputt.split(\" \"))\n",
    "print(aa)"
   ]
  },
  {
   "cell_type": "code",
   "execution_count": 224,
   "metadata": {},
   "outputs": [
    {
     "ename": "ModuleNotFoundError",
     "evalue": "No module named 'treetaggerwrapper'",
     "output_type": "error",
     "traceback": [
      "\u001b[0;31m---------------------------------------------------------------------------\u001b[0m",
      "\u001b[0;31mModuleNotFoundError\u001b[0m                       Traceback (most recent call last)",
      "\u001b[0;32m<ipython-input-224-b920a372b922>\u001b[0m in \u001b[0;36m<module>\u001b[0;34m\u001b[0m\n\u001b[0;32m----> 1\u001b[0;31m \u001b[0;32mimport\u001b[0m \u001b[0mtreetaggerwrapper\u001b[0m\u001b[0;34m\u001b[0m\u001b[0;34m\u001b[0m\u001b[0m\n\u001b[0m",
      "\u001b[0;31mModuleNotFoundError\u001b[0m: No module named 'treetaggerwrapper'"
     ]
    }
   ],
   "source": [
    "import treetaggerwrapper"
   ]
  },
  {
   "cell_type": "code",
   "execution_count": null,
   "metadata": {},
   "outputs": [],
   "source": []
  }
 ],
 "metadata": {
  "kernelspec": {
   "display_name": "Python 3",
   "language": "python",
   "name": "python3"
  },
  "language_info": {
   "codemirror_mode": {
    "name": "ipython",
    "version": 3
   },
   "file_extension": ".py",
   "mimetype": "text/x-python",
   "name": "python",
   "nbconvert_exporter": "python",
   "pygments_lexer": "ipython3",
   "version": "3.7.3"
  }
 },
 "nbformat": 4,
 "nbformat_minor": 2
}
