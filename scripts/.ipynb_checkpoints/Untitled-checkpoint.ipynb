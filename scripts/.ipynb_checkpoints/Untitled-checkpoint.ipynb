{
 "cells": [
  {
   "cell_type": "code",
   "execution_count": 16,
   "metadata": {},
   "outputs": [],
   "source": [
    "import os\n",
    "import re\n",
    "import glob\n",
    "from fonctions_index import litTexteDuFichier, ecritTexteDansUnFichier"
   ]
  },
  {
   "cell_type": "code",
   "execution_count": 25,
   "metadata": {},
   "outputs": [],
   "source": [
    "path_corpus_initiaux = os.path.join(\"..\", \"corpus\", \"initiaux\")\n",
    "path_sans_balise = os.path.join(\"..\", \"corpus\", \"sans_balises\")\n",
    "path_scripts_relative = os.path.join(\"..\", \"..\", \"scripts\")"
   ]
  },
  {
   "cell_type": "code",
   "execution_count": 32,
   "metadata": {},
   "outputs": [],
   "source": [
    "def lister_noms_fichiers(chemin):\n",
    "    os.chdir(chemin)\n",
    "    liste_noms_fichiers = glob.glob(\"/*.txt\")\n",
    "    os.chdir(\"../../scripts\")\n",
    "    return liste_noms_fichiers"
   ]
  },
  {
   "cell_type": "code",
   "execution_count": 41,
   "metadata": {},
   "outputs": [
    {
     "data": {
      "text/plain": [
       "'/home/mlopezmalet/MLOPEZMALET/m2/RI/TP/scripts'"
      ]
     },
     "execution_count": 41,
     "metadata": {},
     "output_type": "execute_result"
    }
   ],
   "source": [
    "pwd"
   ]
  },
  {
   "cell_type": "code",
   "execution_count": 42,
   "metadata": {},
   "outputs": [
    {
     "data": {
      "text/plain": [
       "[]"
      ]
     },
     "execution_count": 42,
     "metadata": {},
     "output_type": "execute_result"
    }
   ],
   "source": [
    "    os.chdir(path_corpus_initiaux)\n",
    "    liste_noms_fichiers = glob.glob(\"/*.txt\")\n",
    "    liste_noms_fichiers    "
   ]
  },
  {
   "cell_type": "code",
   "execution_count": 45,
   "metadata": {},
   "outputs": [
    {
     "data": {
      "text/plain": [
       "['2003-03-RAMONET-9870.txt',\n",
       " '103448-article.txt',\n",
       " '103433-article.txt',\n",
       " '103200-article.txt',\n",
       " '2002-03-WARDE-16195.txt',\n",
       " '2002-07-CONESA-16699.txt',\n",
       " '103342-article.txt',\n",
       " '2001-08-HALIMI-15544.txt',\n",
       " '2001-08-FRANK-15516.txt',\n",
       " '2002-01-PARINGAUX-16015.txt',\n",
       " '2002-03-ALGAZY-16302.txt',\n",
       " '2002-07-MOTCHANE-16708.txt',\n",
       " '103168-article.txt',\n",
       " '103307-article.txt',\n",
       " '2001-01-DRWESKI-14685.txt',\n",
       " '2003-01-SERVANT-9856.txt',\n",
       " '2002-02-BEILIN-16167.txt',\n",
       " '103557-article.txt',\n",
       " '103310-article.txt',\n",
       " '103558-article.txt',\n",
       " '103344-article.txt',\n",
       " '103358-article.txt',\n",
       " '2003-01-KAPELIOUK-9652.txt',\n",
       " '2001-09-DE_LA_GORCE-15631.txt',\n",
       " '103167-article.txt',\n",
       " '103455-article.txt',\n",
       " '2002-03-JOHNSON-16293.txt',\n",
       " '2002-07-TSHIYEMBE-16697.txt',\n",
       " '103060-article.txt',\n",
       " '103674-article.txt']"
      ]
     },
     "execution_count": 45,
     "metadata": {},
     "output_type": "execute_result"
    }
   ],
   "source": [
    "glob.glob(\"*\")"
   ]
  },
  {
   "cell_type": "code",
   "execution_count": 19,
   "metadata": {},
   "outputs": [],
   "source": [
    "def lister_chemins_fichier(chemin):\n",
    "    liste_chemins_fichier = glob.glob(path_corpus_initiaux + \"/*.txt\")\n",
    "    return liste_chemins_fichier"
   ]
  },
  {
   "cell_type": "code",
   "execution_count": 20,
   "metadata": {},
   "outputs": [
    {
     "data": {
      "text/plain": [
       "['../corpus/initiaux/2003-03-RAMONET-9870.txt',\n",
       " '../corpus/initiaux/103448-article.txt',\n",
       " '../corpus/initiaux/103433-article.txt',\n",
       " '../corpus/initiaux/103200-article.txt',\n",
       " '../corpus/initiaux/2002-03-WARDE-16195.txt',\n",
       " '../corpus/initiaux/2002-07-CONESA-16699.txt',\n",
       " '../corpus/initiaux/103342-article.txt',\n",
       " '../corpus/initiaux/2001-08-HALIMI-15544.txt',\n",
       " '../corpus/initiaux/2001-08-FRANK-15516.txt',\n",
       " '../corpus/initiaux/2002-01-PARINGAUX-16015.txt',\n",
       " '../corpus/initiaux/2002-03-ALGAZY-16302.txt',\n",
       " '../corpus/initiaux/2002-07-MOTCHANE-16708.txt',\n",
       " '../corpus/initiaux/103168-article.txt',\n",
       " '../corpus/initiaux/103307-article.txt',\n",
       " '../corpus/initiaux/2001-01-DRWESKI-14685.txt',\n",
       " '../corpus/initiaux/2003-01-SERVANT-9856.txt',\n",
       " '../corpus/initiaux/2002-02-BEILIN-16167.txt',\n",
       " '../corpus/initiaux/103557-article.txt',\n",
       " '../corpus/initiaux/103310-article.txt',\n",
       " '../corpus/initiaux/103558-article.txt',\n",
       " '../corpus/initiaux/103344-article.txt',\n",
       " '../corpus/initiaux/103358-article.txt',\n",
       " '../corpus/initiaux/2003-01-KAPELIOUK-9652.txt',\n",
       " '../corpus/initiaux/2001-09-DE_LA_GORCE-15631.txt',\n",
       " '../corpus/initiaux/103167-article.txt',\n",
       " '../corpus/initiaux/103455-article.txt',\n",
       " '../corpus/initiaux/2002-03-JOHNSON-16293.txt',\n",
       " '../corpus/initiaux/2002-07-TSHIYEMBE-16697.txt',\n",
       " '../corpus/initiaux/103060-article.txt',\n",
       " '../corpus/initiaux/103674-article.txt']"
      ]
     },
     "execution_count": 20,
     "metadata": {},
     "output_type": "execute_result"
    }
   ],
   "source": [
    "lst = lister_chemins_fichier(path_corpus_initiaux)"
   ]
  },
  {
   "cell_type": "code",
   "execution_count": 21,
   "metadata": {},
   "outputs": [
    {
     "data": {
      "text/plain": [
       "[]"
      ]
     },
     "execution_count": 21,
     "metadata": {},
     "output_type": "execute_result"
    }
   ],
   "source": [
    "lister_noms_fichiers(path_corpus_initiaux)"
   ]
  },
  {
   "cell_type": "code",
   "execution_count": 46,
   "metadata": {},
   "outputs": [
    {
     "data": {
      "text/plain": [
       "[]"
      ]
     },
     "execution_count": 46,
     "metadata": {},
     "output_type": "execute_result"
    }
   ],
   "source": [
    "lister_chemins_fichier(path_sans_balise)"
   ]
  },
  {
   "cell_type": "code",
   "execution_count": 14,
   "metadata": {},
   "outputs": [
    {
     "data": {
      "text/plain": [
       "[]"
      ]
     },
     "execution_count": 14,
     "metadata": {},
     "output_type": "execute_result"
    }
   ],
   "source": [
    "lister_noms_fichiers(path_sans_balise)"
   ]
  },
  {
   "cell_type": "code",
   "execution_count": null,
   "metadata": {},
   "outputs": [],
   "source": []
  },
  {
   "cell_type": "code",
   "execution_count": 51,
   "metadata": {},
   "outputs": [
    {
     "data": {
      "text/plain": [
       "32256"
      ]
     },
     "execution_count": 51,
     "metadata": {},
     "output_type": "execute_result"
    }
   ],
   "source": [
    "fichier = \"/home/mlopezmalet/MLOPEZMALET/m2/RI/TP/corpus/sans_balises/2003-03-RAMONET-9870.txt.txt\"\n",
    "cmd = \"tree-tagger-french\"\n",
    "os.system(f\"{fichier} {cmd}> test.txt\")"
   ]
  },
  {
   "cell_type": "code",
   "execution_count": null,
   "metadata": {},
   "outputs": [],
   "source": []
  }
 ],
 "metadata": {
  "kernelspec": {
   "display_name": "Python 3",
   "language": "python",
   "name": "python3"
  },
  "language_info": {
   "codemirror_mode": {
    "name": "ipython",
    "version": 3
   },
   "file_extension": ".py",
   "mimetype": "text/x-python",
   "name": "python",
   "nbconvert_exporter": "python",
   "pygments_lexer": "ipython3",
   "version": "3.6.9"
  }
 },
 "nbformat": 4,
 "nbformat_minor": 2
}
